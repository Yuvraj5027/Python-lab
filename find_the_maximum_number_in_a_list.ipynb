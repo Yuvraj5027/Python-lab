{
  "nbformat": 4,
  "nbformat_minor": 0,
  "metadata": {
    "colab": {
      "provenance": [],
      "authorship_tag": "ABX9TyPjUUDAH7021J15HrebRHAx",
      "include_colab_link": true
    },
    "kernelspec": {
      "name": "python3",
      "display_name": "Python 3"
    },
    "language_info": {
      "name": "python"
    }
  },
  "cells": [
    {
      "cell_type": "markdown",
      "metadata": {
        "id": "view-in-github",
        "colab_type": "text"
      },
      "source": [
        "<a href=\"https://colab.research.google.com/github/Yuvraj5027/Python-lab/blob/main/find_the_maximum_number_in_a_list.ipynb\" target=\"_parent\"><img src=\"https://colab.research.google.com/assets/colab-badge.svg\" alt=\"Open In Colab\"/></a>"
      ]
    },
    {
      "cell_type": "code",
      "execution_count": 1,
      "metadata": {
        "colab": {
          "base_uri": "https://localhost:8080/"
        },
        "id": "EUP9jPpw3gSI",
        "outputId": "b3ff2ed6-de46-4471-ecc3-9094ff6aa052"
      },
      "outputs": [
        {
          "output_type": "stream",
          "name": "stdout",
          "text": [
            "4\n",
            "7\n",
            "3\n",
            "-2\n",
            "3\n",
            "7\n"
          ]
        }
      ],
      "source": [
        "n=int(input())\n",
        "list=[]\n",
        "for i in range(n):\n",
        "    list.append(input())\n",
        "print(max(list))"
      ]
    },
    {
      "cell_type": "code",
      "source": [],
      "metadata": {
        "id": "WXjCYr7I4iZC"
      },
      "execution_count": null,
      "outputs": []
    }
  ]
}