{
  "nbformat": 4,
  "nbformat_minor": 0,
  "metadata": {
    "colab": {
      "provenance": [],
      "authorship_tag": "ABX9TyNrtwVSg0Bgub81HVEPHSEe",
      "include_colab_link": true
    },
    "kernelspec": {
      "name": "python3",
      "display_name": "Python 3"
    },
    "language_info": {
      "name": "python"
    }
  },
  "cells": [
    {
      "cell_type": "markdown",
      "metadata": {
        "id": "view-in-github",
        "colab_type": "text"
      },
      "source": [
        "<a href=\"https://colab.research.google.com/github/Yuvraj5027/Python-lab/blob/main/finding%20unique%20numbers.ipynb\" target=\"_parent\"><img src=\"https://colab.research.google.com/assets/colab-badge.svg\" alt=\"Open In Colab\"/></a>"
      ]
    },
    {
      "cell_type": "code",
      "execution_count": null,
      "metadata": {
        "colab": {
          "base_uri": "https://localhost:8080/"
        },
        "id": "0QfLS8umQl-w",
        "outputId": "76673c3c-70ec-4b31-87e7-557ca0f55e0e"
      },
      "outputs": [
        {
          "output_type": "stream",
          "name": "stdout",
          "text": [
            "0\n",
            "1\n",
            "2\n",
            "4\n"
          ]
        }
      ],
      "source": [
        "for i in range(5):\n",
        "  if i==3:\n",
        "    continue\n",
        "  print(i)"
      ]
    },
    {
      "cell_type": "code",
      "source": [
        "n=int(input())\n",
        "m=int(input())\n",
        "for i in range(n,m+1):\n",
        "    if (int(str(i)[0])+int(str(i)[1]))+(int(str(i)[0])*int(str(i)[1]))==i:\n",
        "        print(i)\n",
        ""
      ],
      "metadata": {
        "id": "jTJONFfHQ0cZ",
        "colab": {
          "base_uri": "https://localhost:8080/"
        },
        "outputId": "121d282c-5628-4845-8401-6f8ae5847dd8"
      },
      "execution_count": 2,
      "outputs": [
        {
          "output_type": "stream",
          "name": "stdout",
          "text": [
            "10\n",
            "99\n",
            "19\n",
            "29\n",
            "39\n",
            "49\n",
            "59\n",
            "69\n",
            "79\n",
            "89\n",
            "99\n"
          ]
        }
      ]
    },
    {
      "cell_type": "code",
      "source": [
        "99"
      ],
      "metadata": {
        "id": "IE5EyX1jcJSY"
      },
      "execution_count": null,
      "outputs": []
    }
  ]
}