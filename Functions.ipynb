{
  "nbformat": 4,
  "nbformat_minor": 0,
  "metadata": {
    "colab": {
      "provenance": [],
      "authorship_tag": "ABX9TyMXlemfYrieNvAgiN7oJwqi",
      "include_colab_link": true
    },
    "kernelspec": {
      "name": "python3",
      "display_name": "Python 3"
    },
    "language_info": {
      "name": "python"
    }
  },
  "cells": [
    {
      "cell_type": "markdown",
      "metadata": {
        "id": "view-in-github",
        "colab_type": "text"
      },
      "source": [
        "<a href=\"https://colab.research.google.com/github/Yuvraj5027/Python-lab/blob/main/Functions.ipynb\" target=\"_parent\"><img src=\"https://colab.research.google.com/assets/colab-badge.svg\" alt=\"Open In Colab\"/></a>"
      ]
    },
    {
      "cell_type": "code",
      "execution_count": null,
      "metadata": {
        "id": "8s69m1k2e9cd"
      },
      "outputs": [],
      "source": [
        "def fact(n):\n",
        "  fact=1\n",
        "  for i in range(1,n+1):\n",
        "    fact*=i\n",
        "  return fact\n",
        "n=int(input('Enter the number: '))\n",
        "print(fact(n))"
      ]
    },
    {
      "cell_type": "code",
      "source": [
        "def add(a,b):\n",
        "  return a+b\n",
        "a=int(input('Enter the first number: '))\n",
        "b=int(input('Enter the second number: '))\n",
        "print(add(a,b))"
      ],
      "metadata": {
        "colab": {
          "base_uri": "https://localhost:8080/"
        },
        "id": "dOZOof0xgDDn",
        "outputId": "58706970-628f-44e1-f000-f0cae1ee4e84"
      },
      "execution_count": null,
      "outputs": [
        {
          "output_type": "stream",
          "name": "stdout",
          "text": [
            "Enter the first number: 4\n",
            "Enter the second number: 6\n",
            "10\n"
          ]
        }
      ]
    },
    {
      "cell_type": "code",
      "source": [
        "def fun():\n",
        "  print('Welcome to python')\n",
        "print(fun())"
      ],
      "metadata": {
        "colab": {
          "base_uri": "https://localhost:8080/"
        },
        "id": "Oz4xBkX2gHLq",
        "outputId": "efcaeb23-cc5a-48e8-ef78-efa9b588a6e0"
      },
      "execution_count": null,
      "outputs": [
        {
          "output_type": "stream",
          "name": "stdout",
          "text": [
            "<function fun at 0x797b6661c820>\n"
          ]
        }
      ]
    },
    {
      "cell_type": "code",
      "source": [
        "#Anonymous function is known as lambda function"
      ],
      "metadata": {
        "id": "w1qdwwmDnQ_M"
      },
      "execution_count": null,
      "outputs": []
    },
    {
      "cell_type": "code",
      "source": [
        "def sum(n1,n2):\n",
        "  s=n1+n2\n",
        "  return s\n",
        "x=int(input('Enter the first number: '))\n",
        "y=int(input('Enter the second number: '))\n",
        "print(sum(x,y))"
      ],
      "metadata": {
        "colab": {
          "base_uri": "https://localhost:8080/"
        },
        "id": "Fbx8_PnSpAic",
        "outputId": "e7281fe6-5f4e-48c9-e98d-494a591776bd"
      },
      "execution_count": null,
      "outputs": [
        {
          "output_type": "stream",
          "name": "stdout",
          "text": [
            "Enter the first number: 4\n",
            "Enter the second number: 6\n",
            "10\n"
          ]
        }
      ]
    },
    {
      "cell_type": "code",
      "source": [
        "lambda a,b:a+b\n",
        "a=int(input())\n",
        "b=int(input())\n",
        "print(sum(a,b))"
      ],
      "metadata": {
        "id": "T0ipRrKdpJzC",
        "colab": {
          "base_uri": "https://localhost:8080/"
        },
        "outputId": "bd1b5b89-410d-48f3-b3bb-5e31b83fbfa7"
      },
      "execution_count": 11,
      "outputs": [
        {
          "output_type": "stream",
          "name": "stdout",
          "text": [
            "4\n",
            "6\n",
            "10\n"
          ]
        }
      ]
    },
    {
      "cell_type": "code",
      "source": [],
      "metadata": {
        "id": "T4KG79j2qllK"
      },
      "execution_count": null,
      "outputs": []
    }
  ]
}