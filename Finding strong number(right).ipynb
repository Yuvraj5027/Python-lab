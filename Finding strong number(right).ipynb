{
  "nbformat": 4,
  "nbformat_minor": 0,
  "metadata": {
    "colab": {
      "provenance": [],
      "authorship_tag": "ABX9TyPh3TCukeVfh+ELoCnd6lIl",
      "include_colab_link": true
    },
    "kernelspec": {
      "name": "python3",
      "display_name": "Python 3"
    },
    "language_info": {
      "name": "python"
    }
  },
  "cells": [
    {
      "cell_type": "markdown",
      "metadata": {
        "id": "view-in-github",
        "colab_type": "text"
      },
      "source": [
        "<a href=\"https://colab.research.google.com/github/Yuvraj5027/Python-lab/blob/main/Finding%20strong%20number(right).ipynb\" target=\"_parent\"><img src=\"https://colab.research.google.com/assets/colab-badge.svg\" alt=\"Open In Colab\"/></a>"
      ]
    },
    {
      "cell_type": "code",
      "execution_count": null,
      "metadata": {
        "colab": {
          "base_uri": "https://localhost:8080/"
        },
        "id": "0QfLS8umQl-w",
        "outputId": "76673c3c-70ec-4b31-87e7-557ca0f55e0e"
      },
      "outputs": [
        {
          "output_type": "stream",
          "name": "stdout",
          "text": [
            "0\n",
            "1\n",
            "2\n",
            "4\n"
          ]
        }
      ],
      "source": [
        "for i in range(5):\n",
        "  if i==3:\n",
        "    continue\n",
        "  print(i)"
      ]
    },
    {
      "cell_type": "code",
      "source": [
        "n=int(input())\n",
        "fact1=1\n",
        "fact2=1\n",
        "fact3=1\n",
        "x=int(str(n)[0])\n",
        "y=int(str(n)[1])\n",
        "z=int(str(n)[2])\n",
        "for i in range(1,x+1):\n",
        "    fact1=fact1*i\n",
        "\n",
        "for i in range(1,y+1):\n",
        "    fact2=fact2*i\n",
        "\n",
        "\n",
        "for i in range(1,z+1):\n",
        "    fact3=fact3*i\n",
        "\n",
        "if fact1+fact2+fact3==n:\n",
        "    print('Yes! strong hai ye number')\n",
        "else:\n",
        "    print('NO! Ye weak number hai')\n",
        "\n",
        ""
      ],
      "metadata": {
        "id": "jTJONFfHQ0cZ",
        "colab": {
          "base_uri": "https://localhost:8080/"
        },
        "outputId": "121d282c-5628-4845-8401-6f8ae5847dd8"
      },
      "execution_count": 2,
      "outputs": [
        {
          "output_type": "stream",
          "name": "stdout",
          "text": [
            "10\n",
            "99\n",
            "19\n",
            "29\n",
            "39\n",
            "49\n",
            "59\n",
            "69\n",
            "79\n",
            "89\n",
            "99\n"
          ]
        }
      ]
    },
    {
      "cell_type": "code",
      "source": [
        "99"
      ],
      "metadata": {
        "id": "IE5EyX1jcJSY"
      },
      "execution_count": null,
      "outputs": []
    }
  ]
}