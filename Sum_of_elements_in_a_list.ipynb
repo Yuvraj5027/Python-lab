{
  "nbformat": 4,
  "nbformat_minor": 0,
  "metadata": {
    "colab": {
      "provenance": [],
      "authorship_tag": "ABX9TyPSVarW2QTYCo+8vwx9IT3+",
      "include_colab_link": true
    },
    "kernelspec": {
      "name": "python3",
      "display_name": "Python 3"
    },
    "language_info": {
      "name": "python"
    }
  },
  "cells": [
    {
      "cell_type": "markdown",
      "metadata": {
        "id": "view-in-github",
        "colab_type": "text"
      },
      "source": [
        "<a href=\"https://colab.research.google.com/github/Yuvraj5027/Python-lab/blob/main/Sum_of_elements_in_a_list.ipynb\" target=\"_parent\"><img src=\"https://colab.research.google.com/assets/colab-badge.svg\" alt=\"Open In Colab\"/></a>"
      ]
    },
    {
      "cell_type": "code",
      "execution_count": 4,
      "metadata": {
        "colab": {
          "base_uri": "https://localhost:8080/"
        },
        "id": "MYntXezpO6i_",
        "outputId": "7a54b33a-463e-4273-a751-29f8d8df1bff"
      },
      "outputs": [
        {
          "output_type": "stream",
          "name": "stdout",
          "text": [
            "Enter the number of elements3\n",
            "Enter number:10\n",
            "Enter number:20\n",
            "Enter number:30\n",
            "[10, 20, 30]\n",
            "60\n"
          ]
        }
      ],
      "source": [
        "n=int(input('Enter the number of elements'))\n",
        "sum=0\n",
        "list=[]\n",
        "for i in range(n):\n",
        "  n1=int(input('Enter number:'))\n",
        "  list.append(n1)\n",
        "  sum+=n1\n",
        "print(list)\n",
        "print(sum)"
      ]
    },
    {
      "cell_type": "code",
      "source": [
        "n=int(input('Enter the number of elements'))\n",
        "sum=0\n",
        "list=[]\n",
        "for i in range(n):\n",
        "  n1=int(input('Enter number:'))\n",
        "  list.append(n1)\n",
        "  sum+=n1\n",
        "print(list)\n",
        "print(sum/len(list))"
      ],
      "metadata": {
        "colab": {
          "base_uri": "https://localhost:8080/"
        },
        "id": "hep2pQHHQAmX",
        "outputId": "88377309-8db1-4ee8-e5c1-273181d3d5de"
      },
      "execution_count": 6,
      "outputs": [
        {
          "output_type": "stream",
          "name": "stdout",
          "text": [
            "Enter the number of elements3\n",
            "Enter number:10\n",
            "Enter number:20\n",
            "Enter number:30\n",
            "[10, 20, 30]\n",
            "20.0\n"
          ]
        }
      ]
    },
    {
      "cell_type": "code",
      "source": [],
      "metadata": {
        "id": "T2W8yhWnRWaA"
      },
      "execution_count": null,
      "outputs": []
    }
  ]
}