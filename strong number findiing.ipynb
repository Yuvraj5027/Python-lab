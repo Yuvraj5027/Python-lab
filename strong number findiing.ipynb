{
  "nbformat": 4,
  "nbformat_minor": 0,
  "metadata": {
    "colab": {
      "provenance": [],
      "authorship_tag": "ABX9TyP3k5mKlvm+sp3R4WY0H7Zq",
      "include_colab_link": true
    },
    "kernelspec": {
      "name": "python3",
      "display_name": "Python 3"
    },
    "language_info": {
      "name": "python"
    }
  },
  "cells": [
    {
      "cell_type": "markdown",
      "metadata": {
        "id": "view-in-github",
        "colab_type": "text"
      },
      "source": [
        "<a href=\"https://colab.research.google.com/github/Yuvraj5027/Python-lab/blob/main/strong%20number%20findiing.ipynb\" target=\"_parent\"><img src=\"https://colab.research.google.com/assets/colab-badge.svg\" alt=\"Open In Colab\"/></a>"
      ]
    },
    {
      "cell_type": "code",
      "execution_count": null,
      "metadata": {
        "colab": {
          "base_uri": "https://localhost:8080/"
        },
        "id": "0QfLS8umQl-w",
        "outputId": "76673c3c-70ec-4b31-87e7-557ca0f55e0e"
      },
      "outputs": [
        {
          "output_type": "stream",
          "name": "stdout",
          "text": [
            "0\n",
            "1\n",
            "2\n",
            "4\n"
          ]
        }
      ],
      "source": [
        "for i in range(5):\n",
        "  if i==3:\n",
        "    continue\n",
        "  print(i)"
      ]
    },
    {
      "cell_type": "code",
      "source": [
        "n=int(input())\n",
        "fact=1\n",
        "x=int(str(n)[0])\n",
        "y=int(str(n)[1])\n",
        "z=int(str(n)[2])\n",
        "for i in range(1,x+1):\n",
        "    fact1=fact*i\n",
        "\n",
        "for i in range(1,y+1):\n",
        "    fact2=fact*i\n",
        "\n",
        "\n",
        "for i in range(1,z+1):\n",
        "    fact3=fact*i\n",
        "\n",
        "if fact1==x and fact2==y and fact3==z:\n",
        "    print('Yes! strong hai ye number')\n",
        "else:\n",
        "    print('NO! Ye weak number hai')\n",
        "\n",
        ""
      ],
      "metadata": {
        "id": "jTJONFfHQ0cZ",
        "colab": {
          "base_uri": "https://localhost:8080/"
        },
        "outputId": "f1771b2b-5224-4b12-bf48-bca16601d45d"
      },
      "execution_count": 1,
      "outputs": [
        {
          "output_type": "stream",
          "name": "stdout",
          "text": [
            "145\n",
            "Yes! strong hai ye number\n"
          ]
        }
      ]
    },
    {
      "cell_type": "code",
      "source": [],
      "metadata": {
        "id": "IE5EyX1jcJSY"
      },
      "execution_count": null,
      "outputs": []
    }
  ]
}